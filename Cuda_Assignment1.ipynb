{
 "cells": [
  {
   "cell_type": "markdown",
   "metadata": {},
   "source": [
    "# Cuda-vision Lab - Assignment 1\n",
    "##     Mst.Mahfuja Akter"
   ]
  },
  {
   "cell_type": "code",
   "execution_count": 26,
   "metadata": {},
   "outputs": [],
   "source": [
    "# only for the load_mnist function\n",
    "import os, struct\n",
    "from array import array as pyarray\n",
    "from numpy import  array, zeros\n",
    "# general import\n",
    "import numpy as np\n",
    "from matplotlib import pyplot as plt"
   ]
  },
  {
   "cell_type": "code",
   "execution_count": 27,
   "metadata": {},
   "outputs": [],
   "source": [
    "#defining softmax function as activation function\n",
    "def softmax(x):\n",
    "    return np.exp(x) / np.sum(np.exp(x), axis=0)"
   ]
  },
  {
   "cell_type": "code",
   "execution_count": 28,
   "metadata": {},
   "outputs": [
    {
     "data": {
      "text/html": [
       "<style>\n",
       "  table {margin-left: 0 !important;}\n",
       "</style>\n"
      ],
      "text/plain": [
       "<IPython.core.display.HTML object>"
      ]
     },
     "metadata": {},
     "output_type": "display_data"
    }
   ],
   "source": [
    "%%html\n",
    "<style>\n",
    "  table {margin-left: 0 !important;}\n",
    "</style>"
   ]
  },
  {
   "cell_type": "markdown",
   "metadata": {},
   "source": [
    "We got provided this function in the lecture \"Deep Learning for visual recognition\".\n",
    "It reads and open the data according to following structere:\n",
    "\n",
    "# TRAINING SET LABEL FILE (train-labels-idx1-ubyte):\n",
    "|   [offset]   |   [type]     |     [value]   |     [description]   |\n",
    "|-|-|-|-|\n",
    "|0000   |  32 bit integer | 0x00000801(2049)| magic number (MSB first)|\n",
    "|0004  |   32 bit integer | 60000        |    number of items|\n",
    "|0008  |   unsigned byte  | ??           |    label   |\n",
    "|0009   |  unsigned byte |  ??          |     label   |\n",
    "||........||\n",
    "|xxxx   |  unsigned byte  | ??           |    label\n",
    "\n",
    "The labels values are 0 to 9.\n",
    "# TRAINING SET IMAGE FILE (train-images-idx3-ubyte):\n",
    "|   [offset]   |   [type]     |     [value]   |     [description]   |\n",
    "|-|-|-|-|\n",
    "|0000  |   32 bit integer | 0x00000803(2051)| magic number|\n",
    "0004   |  32 bit integer | 60000           | number of images|\n",
    "0008   |  32 bit integer | 28       |        number of rows|\n",
    "0012    | 32 bit integer | 28        |       number of columns|\n",
    "0016   |  unsigned byte |  ??       |        pixel|\n",
    "0017   |  unsigned byte |  ??   |           pixel|\n",
    "||........||\n",
    "|xxxx  |   unsigned byte |  ??        |       pixel|\n",
    "\n",
    "Pixels are organized row-wise. Pixel values are 0 to 255. 0 means background (white), 255 means foreground (black).\n",
    "# TEST SET LABEL FILE (t10k-labels-idx1-ubyte):\n",
    "|   [offset]   |   [type]     |     [value]   |     [description]   |\n",
    "|-|-|-|-|\n",
    "|0000  |   32 bit integer | 0x00000801(2049)| magic number (MSB first)|\n",
    "|0004  |   32 bit integer | 10000      |      number of items|\n",
    "|0008   |  unsigned byte |  ??         |      label|\n",
    "|0009  |   unsigned byte |  ??         |      label|\n",
    "||........||\n",
    "|xxxx   |  unsigned byte  | ??         |      label|\n",
    "\n",
    "The labels values are 0 to 9.\n",
    "# TEST SET IMAGE FILE (t10k-images-idx3-ubyte):\n",
    "|   [offset]   |   [type]     |     [value]   |     [description]   |\n",
    "|-|-|-|-|\n",
    "|0000   |  32 bit integer|  0x00000803(2051)| magic number|\n",
    "|0004   |  32 bit integer | 10000    |        number of images|\n",
    "|0008   |  32 bit integer|  28      |         number of rows|\n",
    "|0012   |  32 bit integer|  28      |         number of columns|\n",
    "|0016   |  unsigned byte|  ??      |         pixel|\n",
    "|0017    | unsigned byte |  ??      |         pixel|\n",
    "||........||\n",
    "|xxxx   |  unsigned byte |  ??      |         pixel|"
   ]
  },
  {
   "cell_type": "code",
   "execution_count": 29,
   "metadata": {},
   "outputs": [],
   "source": [
    "def load_mnist(dataset=\"training\", digits=np.arange(10), path=\".\"):\n",
    "    \"\"\"\n",
    "    Loads MNIST files into 3D numpy arrays \n",
    "    Adapted from: http://abel.ee.ucla.edu/cvxopt/_downloads/mnist.py\n",
    "    \"\"\"\n",
    "    \n",
    "    if dataset == \"training\":\n",
    "        fname_img = os.path.join(path, 'train-images-idx3-ubyte')\n",
    "        fname_lbl = os.path.join(path, 'train-labels-idx1-ubyte')\n",
    "    elif dataset == \"testing\":\n",
    "        fname_img = os.path.join(path, 't10k-images-idx3-ubyte')\n",
    "        fname_lbl = os.path.join(path, 't10k-labels-idx1-ubyte')\n",
    "    else:\n",
    "        raise ValueError(\"dataset must be 'testing' or 'training'\")\n",
    "\n",
    "    \n",
    "    flbl = open(fname_lbl, 'rb')\n",
    "    magic_nr, size = struct.unpack(\">II\", flbl.read(8))\n",
    "    lbl = pyarray(\"b\", flbl.read())\n",
    "    flbl.close()\n",
    "\n",
    "    fimg = open(fname_img, 'rb')\n",
    "    magic_nr, size, rows, cols = struct.unpack(\">IIII\", fimg.read(16))\n",
    "    img = pyarray(\"B\", fimg.read())\n",
    "    fimg.close()\n",
    "\n",
    "    ind = [ k for k in range(size) if lbl[k] in digits ]\n",
    "    N = len(ind)\n",
    "\n",
    "    images = np.zeros((N, rows, cols) )\n",
    "    labels = np.zeros((N ) )\n",
    "    for i in range(len(ind)):\n",
    "        images[i] = np.array(img[ ind[i]*rows*cols : (ind[i]+1)*rows*cols ]).reshape((rows, cols))\n",
    "        labels[i] = lbl[ind[i]]\n",
    "\n",
    "    return images, labels"
   ]
  },
  {
   "cell_type": "code",
   "execution_count": 30,
   "metadata": {},
   "outputs": [],
   "source": [
    "np.random.seed(0)"
   ]
  },
  {
   "cell_type": "markdown",
   "metadata": {},
   "source": [
    "Now we can load the MNIST data set and use load_mnist function to load the raw data and also process it into manageable chunks.<br>\n",
    "Our path is: data/MNIST/raw/"
   ]
  },
  {
   "cell_type": "code",
   "execution_count": 31,
   "metadata": {},
   "outputs": [
    {
     "name": "stdout",
     "output_type": "stream",
     "text": [
      "Please enter the path for training data starting from the executed ipynb file:C:\\Users\\user\\Documents\\CudaLab\\Assignment1\n",
      "Please enter the path for test data starting from the executed ipynb file:C:\\Users\\user\\Documents\\CudaLab\\Assignment1\n"
     ]
    }
   ],
   "source": [
    "path = input(\"Please enter the path for training data starting from the executed ipynb file:\")\n",
    "train_data, train_label = load_mnist(\"training\",path=path)\n",
    "path = input(\"Please enter the path for test data starting from the executed ipynb file:\")\n",
    "test_data, test_label = load_mnist(\"testing\",path=path)"
   ]
  },
  {
   "cell_type": "code",
   "execution_count": 32,
   "metadata": {},
   "outputs": [],
   "source": [
    "# Reshape the image data into rows\n",
    "image_vector_size = 28*28\n",
    "train_data = train_data.reshape(train_data.shape[0], image_vector_size)\n",
    "test_data = test_data.reshape(test_data.shape[0], image_vector_size)\n",
    "# Change to float datatype\n",
    "train_data = train_data.astype('float32')\n",
    "test_data = test_data.astype('float32')\n",
    " \n",
    "# Scale the data to lie between 0 to 1\n",
    "train_data /= 255\n",
    "test_data /= 255"
   ]
  },
  {
   "cell_type": "code",
   "execution_count": 33,
   "metadata": {},
   "outputs": [],
   "source": [
    "def one_hot_classification_converter(data,classes):\n",
    "    num_classes = len(classes)\n",
    "    representation = np.zeros((len(data),num_classes))\n",
    "    for ele,ind in zip(data,range(len(data))):\n",
    "        representation[ind][int(ele)] = 1\n",
    "    return representation"
   ]
  },
  {
   "cell_type": "code",
   "execution_count": 34,
   "metadata": {},
   "outputs": [],
   "source": [
    "num_classes = 10\n",
    "image_size = 784 #28x28\n",
    "batch_size = 20\n",
    "# Change the labels from integer to categorical data\n",
    "lr = np.arange(num_classes)\n",
    "# transform labels into one hot representation\n",
    "y_train_one_hot = one_hot_classification_converter(train_label,lr).astype(int)\n",
    "y_test_one_hot =  one_hot_classification_converter(test_label,lr).astype(int)\n"
   ]
  },
  {
   "cell_type": "code",
   "execution_count": 35,
   "metadata": {},
   "outputs": [
    {
     "data": {
      "text/plain": [
       "[<matplotlib.lines.Line2D at 0x2cb13da5648>]"
      ]
     },
     "execution_count": 35,
     "metadata": {},
     "output_type": "execute_result"
    },
    {
     "data": {
      "image/png": "[encoded data removed]",
      "text/plain": [
       "<Figure size 432x288 with 1 Axes>"
      ]
     },
     "metadata": {
      "needs_background": "light"
     },
     "output_type": "display_data"
    }
   ],
   "source": [
    "#2 layer Neural network code \n",
    "#initialize random seed\n",
    "\n",
    "\n",
    "#Weight matrix of size 784x10\n",
    "W = np.random.normal(size=(image_size,num_classes))\n",
    "bias = np.zeros(num_classes)\n",
    "learnrate = 0.01\n",
    "error = []\n",
    "final_error = []\n",
    "epoches = 10\n",
    "for e in range(epoches):\n",
    "    # each epoche randomly shuffle the data \n",
    "    tmp_shuffler = np.arange(len(train_label))\n",
    "    train_data = train_data[tmp_shuffler]\n",
    "    train_label = train_label[tmp_shuffler]\n",
    "    y_train_one_hot = y_train_one_hot[tmp_shuffler]\n",
    "    \n",
    "    #defining a for loop from 1 to 60000 where the batch size is 20\n",
    "    for i in range(1,60000,batch_size):\n",
    "        layer_0 = train_data[i:i+batch_size,:]\n",
    "        # check above 2 cells why we need a double transpose here\n",
    "        layer_1 = np.transpose(softmax(np.transpose(np.dot(layer_0,W)+bias)))  \n",
    "        # calculate (teacher-output) for whole batch\n",
    "        absolute_error = np.subtract(y_train_one_hot[i:i+batch_size,:], layer_1)\n",
    "        # calculate MSE\n",
    "        batch_error = (0.5*np.square(absolute_error).sum())/batch_size\n",
    "        #print(\"epoch:\",e,\";batch:\",i,\" error:\",batch_error)\n",
    "        \n",
    "        # calculate general delta rule\n",
    "        delta = layer_1*(1-layer_1)*absolute_error\n",
    "        W_change = learnrate*np.dot(np.transpose(layer_0),delta)\n",
    "        W += W_change\n",
    "        \n",
    "        error.append(batch_error)\n",
    "        \n",
    "    final_error.append(np.mean(error))\n",
    "    error.clear()\n",
    "    \n",
    "plt.plot(final_error)"
   ]
  },
  {
   "cell_type": "code",
   "execution_count": null,
   "metadata": {},
   "outputs": [],
   "source": []
  }
 ],
 "metadata": {
  "kernelspec": {
   "display_name": "Python 3",
   "language": "python",
   "name": "python3"
  },
  "language_info": {
   "codemirror_mode": {
    "name": "ipython",
    "version": 3
   },
   "file_extension": ".py",
   "mimetype": "text/x-python",
   "name": "python",
   "nbconvert_exporter": "python",
   "pygments_lexer": "ipython3",
   "version": "3.7.4"
  }
 },
 "nbformat": 4,
 "nbformat_minor": 2
}
